{
  "nbformat": 4,
  "nbformat_minor": 0,
  "metadata": {
    "colab": {
      "name": "Horse Racing ML Predictions.ipynb",
      "provenance": [],
      "collapsed_sections": [
        "VrPu4QNYrj6I"
      ],
      "toc_visible": true,
      "authorship_tag": "ABX9TyOEhF3Y/GUgKBEb0FdzzVO3",
      "include_colab_link": true
    },
    "kernelspec": {
      "name": "python3",
      "display_name": "Python 3"
    },
    "accelerator": "GPU"
  },
  "cells": [
    {
      "cell_type": "markdown",
      "metadata": {
        "id": "view-in-github",
        "colab_type": "text"
      },
      "source": [
        "<a href=\"https://colab.research.google.com/github/NathanBeal/Predicitve_Horse_Racing_Analysis/blob/main/Horse_Racing_ML_Predictions.ipynb\" target=\"_parent\"><img src=\"https://colab.research.google.com/assets/colab-badge.svg\" alt=\"Open In Colab\"/></a>"
      ]
    },
    {
      "cell_type": "markdown",
      "metadata": {
        "id": "kpV3eNKzDzFq"
      },
      "source": [
        "## **Init of Fast.ai Libraries & Data**"
      ]
    },
    {
      "cell_type": "code",
      "metadata": {
        "id": "_Blt2yDU6odr"
      },
      "source": [
        "%reload_ext autoreload\n",
        "%autoreload 2\n",
        "%matplotlib inline\n",
        "from fastai import *\n",
        "from fastai.tabular import *\n",
        "\n",
        "# Num Py\n",
        "import numpy as np\n",
        "from scipy.linalg import eig\n",
        "\n",
        "# Inits Path\n",
        "folder = 'HORSE'\n",
        "path = Path('data')\n",
        "dest = path/folder\n",
        "dest.mkdir(parents = True, exist_ok=True)\n",
        "\n",
        "dep_var = 'trifecta'\n",
        "cat_names = ['hName', 'jName']\n",
        "cont_names = ['odds','fav', 'pastPos','last10']\n",
        " \n",
        "procs = [FillMissing, Categorify, Normalize]"
      ],
      "execution_count": null,
      "outputs": []
    },
    {
      "cell_type": "code",
      "metadata": {
        "id": "2dPvD4YptDyB"
      },
      "source": [
        "df = pd.read_csv(\"/content/Testing.csv\")\n",
        "test = TabularList.from_df(df.copy(), path=path, cat_names=cat_names, cont_names=cont_names); \n",
        "# test.show_xyzs"
      ],
      "execution_count": null,
      "outputs": []
    },
    {
      "cell_type": "markdown",
      "metadata": {
        "id": "HD1yLo3cnzDd"
      },
      "source": [
        "## **STAGE 1: PREDICTIVE MODEL    ~79.5% ACCURATE**"
      ]
    },
    {
      "cell_type": "code",
      "metadata": {
        "id": "X4SEDt8S7hai"
      },
      "source": [
        "#Data\n",
        "df = pd.read_csv(\"/content/Data.csv\")\n",
        "test2 = TabularList.from_df(df.copy(), path=path, cat_names=cat_names, cont_names=cont_names); \n",
        "test2.show_xyzs\n",
        "\n",
        "# Buffer to allow last 3, 5 and 10 to populate\n",
        "buffer = 200;\n",
        "totalRows = df.shape[0];\n",
        "availRows = totalRows - buffer;\n",
        "trainSize = (int)(availRows*0.8);\n",
        "train1 = buffer;\n",
        "train2 = trainSize;\n",
        "valid1 = trainSize+1;\n",
        "valid2 = totalRows;\n"
      ],
      "execution_count": null,
      "outputs": []
    },
    {
      "cell_type": "code",
      "metadata": {
        "id": "YPQqpBgNYOhV"
      },
      "source": [
        "# CSV File\n",
        "data = (TabularList.from_df(df, path=path, cat_names=cat_names, cont_names=cont_names, procs=procs)\n",
        "                .split_by_idxs(train_idx= range(train1, train2), valid_idx= range(valid1, valid2))\n",
        "                .label_from_df(cols=dep_var)\n",
        "                .add_test(test)\n",
        "                .databunch())"
      ],
      "execution_count": null,
      "outputs": []
    },
    {
      "cell_type": "code",
      "metadata": {
        "id": "_vkWq_Aa7uJb",
        "colab": {
          "base_uri": "https://localhost:8080/"
        },
        "outputId": "6f248fb2-b979-4f6b-fac2-6869f3830897"
      },
      "source": [
        "\n",
        "# data.sanity_check\n",
        "# data.show_batch(rows=2)\n",
        "print(data.valid_ds); print(data.test_ds); print(data.train_ds)"
      ],
      "execution_count": null,
      "outputs": [
        {
          "output_type": "stream",
          "text": [
            "LabelList (4614 items)\n",
            "x: TabularList\n",
            "hName Big Q; jName Lezcano/Jose; odds -0.7003; fav 2.4840; pastPos 1.0059; last10 0.4924; ,hName #na#; jName Alvarado/Junior; odds 0.0284; fav -0.4026; pastPos -2.0436; last10 0.9881; ,hName A Freud of Mama; jName Vargas/Jr./Jorge; odds 0.3421; fav -0.4026; pastPos -1.0271; last10 -0.4989; ,hName #na#; jName Diaz/Jr./Hector; odds 3.8546; fav -0.4026; pastPos -1.0271; last10 0.4924; ,hName Central Exit; jName Martinez/Joey; odds 3.4279; fav -0.4026; pastPos -1.0271; last10 -1.4903; \n",
            "y: CategoryList\n",
            "0,0,1,0,0\n",
            "Path: data\n",
            "LabelList (13 items)\n",
            "x: TabularList\n",
            "hName Gringotts; jName Rodriguez/Castro/Luis; odds 2.1940; fav -0.4026; pastPos -1.0271; last10 -1.9860; ,hName #na#; jName Cardenas/Luis; odds -0.4098; fav -0.4026; pastPos -0.0106; last10 -0.4989; ,hName La Negrita; jName Rosario/Joel; odds -0.5435; fav -0.4026; pastPos 1.0059; last10 -0.4989; ,hName Dazzling Speed; jName Harkie/Heman; odds 3.3818; fav -0.4026; pastPos -1.0271; last10 -0.9946; ,hName #na#; jName #na#; odds 2.4016; fav -0.4026; pastPos -1.0271; last10 -0.9946; \n",
            "y: EmptyLabelList\n",
            ",,,,\n",
            "Path: data\n",
            "LabelList (17460 items)\n",
            "x: TabularList\n",
            "hName Vilma; jName Ortiz/Jose; odds -0.6957; fav 2.4840; pastPos -1.0271; last10 1.4838; ,hName Fielding Gold; jName Luzzi/Michael; odds 1.1447; fav -0.4026; pastPos 1.0059; last10 -0.9946; ,hName Acoustic; jName Arroyo/Angel; odds -0.5804; fav -0.4026; pastPos -1.0271; last10 -0.0032; ,hName Pontastic; jName Gallardo/Antonio; odds -0.3959; fav -0.4026; pastPos 1.0059; last10 -0.0032; ,hName Joywave; jName Maragh/Rajiv; odds -0.2391; fav -0.4026; pastPos 1.0059; last10 -0.0032; \n",
            "y: CategoryList\n",
            "1,1,0,1,0\n",
            "Path: data\n"
          ],
          "name": "stdout"
        }
      ]
    },
    {
      "cell_type": "code",
      "metadata": {
        "id": "Gqqy7kH0kh_b",
        "colab": {
          "base_uri": "https://localhost:8080/"
        },
        "outputId": "4db27c30-8ae7-42f6-90a4-03ecc1edff48"
      },
      "source": [
        "learn.purge()\n",
        "del learn\n",
        "gc.collect()"
      ],
      "execution_count": null,
      "outputs": [
        {
          "output_type": "execute_result",
          "data": {
            "text/plain": [
              "13"
            ]
          },
          "metadata": {
            "tags": []
          },
          "execution_count": 60
        }
      ]
    },
    {
      "cell_type": "code",
      "metadata": {
        "id": "IfxA4d0O81RV",
        "colab": {
          "base_uri": "https://localhost:8080/",
          "height": 374
        },
        "outputId": "52da238e-18e2-4b26-a51b-6ce316541660"
      },
      "source": [
        "learn = tabular_learner(data, layers=[200,100], metrics=accuracy)\n",
        "learn.lr_find()\n",
        "learn.recorder.plot()"
      ],
      "execution_count": null,
      "outputs": [
        {
          "output_type": "display_data",
          "data": {
            "text/html": [
              "\n",
              "    <div>\n",
              "        <style>\n",
              "            /* Turns off some styling */\n",
              "            progress {\n",
              "                /* gets rid of default border in Firefox and Opera. */\n",
              "                border: none;\n",
              "                /* Needs to be in here for Safari polyfill so background images work as expected. */\n",
              "                background-size: auto;\n",
              "            }\n",
              "            .progress-bar-interrupted, .progress-bar-interrupted::-webkit-progress-bar {\n",
              "                background: #F44336;\n",
              "            }\n",
              "        </style>\n",
              "      <progress value='0' class='' max='1' style='width:300px; height:20px; vertical-align: middle;'></progress>\n",
              "      0.00% [0/1 00:00<00:00]\n",
              "    </div>\n",
              "    \n",
              "<table border=\"1\" class=\"dataframe\">\n",
              "  <thead>\n",
              "    <tr style=\"text-align: left;\">\n",
              "      <th>epoch</th>\n",
              "      <th>train_loss</th>\n",
              "      <th>valid_loss</th>\n",
              "      <th>accuracy</th>\n",
              "      <th>time</th>\n",
              "    </tr>\n",
              "  </thead>\n",
              "  <tbody>\n",
              "  </tbody>\n",
              "</table><p>\n",
              "\n",
              "    <div>\n",
              "        <style>\n",
              "            /* Turns off some styling */\n",
              "            progress {\n",
              "                /* gets rid of default border in Firefox and Opera. */\n",
              "                border: none;\n",
              "                /* Needs to be in here for Safari polyfill so background images work as expected. */\n",
              "                background-size: auto;\n",
              "            }\n",
              "            .progress-bar-interrupted, .progress-bar-interrupted::-webkit-progress-bar {\n",
              "                background: #F44336;\n",
              "            }\n",
              "        </style>\n",
              "      <progress value='83' class='' max='272' style='width:300px; height:20px; vertical-align: middle;'></progress>\n",
              "      30.51% [83/272 00:00<00:01 0.7364]\n",
              "    </div>\n",
              "    "
            ],
            "text/plain": [
              "<IPython.core.display.HTML object>"
            ]
          },
          "metadata": {
            "tags": []
          }
        },
        {
          "output_type": "stream",
          "text": [
            "LR Finder is complete, type {learner_name}.recorder.plot() to see the graph.\n"
          ],
          "name": "stdout"
        },
        {
          "output_type": "display_data",
          "data": {
            "image/png": "[encoded data removed]",
            "text/plain": [
              "<Figure size 432x288 with 1 Axes>"
            ]
          },
          "metadata": {
            "tags": [],
            "needs_background": "light"
          }
        }
      ]
    },
    {
      "cell_type": "code",
      "metadata": {
        "id": "goEhP8PQs7rh",
        "colab": {
          "base_uri": "https://localhost:8080/",
          "height": 80
        },
        "outputId": "277643a4-f1f3-4b67-a999-ecca969c046d"
      },
      "source": [
        "learn.fit(1,1e-3)"
      ],
      "execution_count": null,
      "outputs": [
        {
          "output_type": "display_data",
          "data": {
            "text/html": [
              "<table border=\"1\" class=\"dataframe\">\n",
              "  <thead>\n",
              "    <tr style=\"text-align: left;\">\n",
              "      <th>epoch</th>\n",
              "      <th>train_loss</th>\n",
              "      <th>valid_loss</th>\n",
              "      <th>accuracy</th>\n",
              "      <th>time</th>\n",
              "    </tr>\n",
              "  </thead>\n",
              "  <tbody>\n",
              "    <tr>\n",
              "      <td>0</td>\n",
              "      <td>0.575615</td>\n",
              "      <td>0.565203</td>\n",
              "      <td>0.706112</td>\n",
              "      <td>00:02</td>\n",
              "    </tr>\n",
              "  </tbody>\n",
              "</table>"
            ],
            "text/plain": [
              "<IPython.core.display.HTML object>"
            ]
          },
          "metadata": {
            "tags": []
          }
        }
      ]
    },
    {
      "cell_type": "code",
      "metadata": {
        "id": "rSEV-e5bONAg"
      },
      "source": [
        "# learn.save('Model 1')\n",
        "# learn.export()"
      ],
      "execution_count": null,
      "outputs": []
    },
    {
      "cell_type": "code",
      "metadata": {
        "id": "80FJ4bbonkiQ",
        "colab": {
          "base_uri": "https://localhost:8080/",
          "height": 34
        },
        "outputId": "7ad98279-6f03-4794-88ac-7cfa9a546003"
      },
      "source": [
        "# Checks Validation Outputs\n",
        "      # 2nd output is relative Validation Accuracy\n",
        "learn.validate()\n",
        "# learn.show_results(rows = 15)"
      ],
      "execution_count": null,
      "outputs": [
        {
          "output_type": "display_data",
          "data": {
            "text/html": [
              ""
            ],
            "text/plain": [
              "<IPython.core.display.HTML object>"
            ]
          },
          "metadata": {
            "tags": []
          }
        },
        {
          "output_type": "execute_result",
          "data": {
            "text/plain": [
              "[0.5652034, tensor(0.7061)]"
            ]
          },
          "metadata": {
            "tags": []
          },
          "execution_count": 64
        }
      ]
    },
    {
      "cell_type": "code",
      "metadata": {
        "colab": {
          "base_uri": "https://localhost:8080/",
          "height": 272
        },
        "id": "eP9gAsek0UhZ",
        "outputId": "82475512-c5bf-4f2e-a77a-c15285cad5dc"
      },
      "source": [
        "preds, y = learn.get_preds(DatasetType.Test);\n",
        "labels = np.argmax(preds, 1)\n",
        "print(learn.data.classes);\n",
        "print(preds); print(labels); # print(len(labels))"
      ],
      "execution_count": null,
      "outputs": [
        {
          "output_type": "display_data",
          "data": {
            "text/html": [
              ""
            ],
            "text/plain": [
              "<IPython.core.display.HTML object>"
            ]
          },
          "metadata": {
            "tags": []
          }
        },
        {
          "output_type": "stream",
          "text": [
            "[0, 1]\n",
            "tensor([[0.9483, 0.0517],\n",
            "        [0.5781, 0.4219],\n",
            "        [0.3842, 0.6158],\n",
            "        [0.9701, 0.0299],\n",
            "        [0.9346, 0.0654],\n",
            "        [0.9914, 0.0086],\n",
            "        [0.6736, 0.3264],\n",
            "        [0.9420, 0.0580],\n",
            "        [0.4335, 0.5665],\n",
            "        [0.3225, 0.6775],\n",
            "        [0.9199, 0.0801],\n",
            "        [0.5620, 0.4380],\n",
            "        [0.7206, 0.2794]])\n",
            "tensor([0, 0, 1, 0, 0, 0, 0, 0, 1, 1, 0, 0, 0])\n"
          ],
          "name": "stdout"
        }
      ]
    },
    {
      "cell_type": "code",
      "metadata": {
        "id": "57BC48begiQ1",
        "colab": {
          "base_uri": "https://localhost:8080/"
        },
        "outputId": "266a1ad8-d442-4ae1-b70e-1be3da15575d"
      },
      "source": [
        "df = pd.read_csv(\"/content/Testing.csv\")\n",
        "predsUO = [0 for i in range(len(preds))];\n",
        "for i in range(len(preds)):\n",
        "  # print(df.hName[i], '' , round(float(preds[i][1]), 3))\n",
        "  predsUO[i] = round(float(preds[i][1]), 3);\n",
        "\n",
        "maxArrIndex = 0\n",
        "maxArr=[]\n",
        "maxArr = [0 for i in range(len(preds))] \n",
        "for i in range(len(preds)):\n",
        "  maxArr[i] = round(float(preds[i][1]),3)\n",
        "maxArr = sorted(maxArr)\n",
        "\n",
        "sortedArr = [0 for i in range(len(preds))] \n",
        "for i in range(len(maxArr)):\n",
        "  sortedArr[ (len(preds)-1) -i] = maxArr[i];\n",
        "\n",
        "# print(predsUO)\n",
        "# print(sortedArr)\n",
        "max = 0;\n",
        "nameArr = [0 for i in range(len(preds))]; nArrIndex = 0;\n",
        "n = len(preds);\n",
        "while(n != 0):\n",
        "  for i in range(len(maxArr)):\n",
        "    if(max < predsUO[i]):\n",
        "      max = predsUO[i];\n",
        "      index = i;\n",
        "  nameArr[nArrIndex] = df.hName[index]\n",
        "  n-=1; nArrIndex+=1;\n",
        "  predsUO[index] = 0;\n",
        "  index = 0;\n",
        "  max = 0;\n",
        "\n",
        "print('Projected Results')\n",
        "for i in range(len(maxArr)):\n",
        "  print((i+1),'. ', sortedArr[i], '  ', nameArr[i])"
      ],
      "execution_count": null,
      "outputs": [
        {
          "output_type": "stream",
          "text": [
            "Projected Results\n",
            "1 .  0.677    Dare to Try\n",
            "2 .  0.616    La Negrita\n",
            "3 .  0.567    Nicky Scissors\n",
            "4 .  0.438    Left Leaning Lucy\n",
            "5 .  0.422    Mia Bea Star\n",
            "6 .  0.326    Cruising Strong\n",
            "7 .  0.279    Shannon's Girl\n",
            "8 .  0.08    Lasagna\n",
            "9 .  0.065    Touch of Nirvana\n",
            "10 .  0.058    Tripp Road\n",
            "11 .  0.052    Gringotts\n",
            "12 .  0.03    Dazzling Speed\n",
            "13 .  0.009    Sarahrini\n"
          ],
          "name": "stdout"
        }
      ]
    },
    {
      "cell_type": "code",
      "metadata": {
        "colab": {
          "base_uri": "https://localhost:8080/"
        },
        "id": "kT_auyWKn1cm",
        "outputId": "b5774ee4-560c-46e6-8849-381c6874f10c"
      },
      "source": [
        "# Odds to probabilitites\n",
        "print('Projected Odds')\n",
        "for i in range(len(preds)):\n",
        "  probabilityTrifecta = 1/(preds[i][1]) -1\n",
        "  t = 1/probabilityTrifecta\n",
        "  print('1:',round(float(probabilityTrifecta),2), '  ',df.hName[i])\n",
        "  #print(round(float(t), 2),':1')"
      ],
      "execution_count": null,
      "outputs": [
        {
          "output_type": "stream",
          "text": [
            "Projected Odds\n",
            "1: 18.33    Gringotts\n",
            "1: 1.37    Mia Bea Star\n",
            "1: 0.62    La Negrita\n",
            "1: 32.4    Dazzling Speed\n",
            "1: 14.28    Touch of Nirvana\n",
            "1: 115.6    Sarahrini\n",
            "1: 2.06    Cruising Strong\n",
            "1: 16.23    Tripp Road\n",
            "1: 0.77    Nicky Scissors\n",
            "1: 0.48    Dare to Try\n",
            "1: 11.48    Lasagna\n",
            "1: 1.28    Left Leaning Lucy\n",
            "1: 2.58    Shannon's Girl\n"
          ],
          "name": "stdout"
        }
      ]
    },
    {
      "cell_type": "markdown",
      "metadata": {
        "id": "2j8cUDvsshu7"
      },
      "source": [
        "##*Prediction Evaluation*"
      ]
    },
    {
      "cell_type": "code",
      "metadata": {
        "id": "FFrKdCoF39nA",
        "colab": {
          "base_uri": "https://localhost:8080/"
        },
        "outputId": "80a79b2d-aa16-4963-ac90-5c4fe9b69c76"
      },
      "source": [
        "countFringe = 0; countDeterminate = 0;\n",
        "for i in range(len(preds)):\n",
        "  if(preds[i][0] < .65 and preds[i][0] > .35 ):\n",
        "    countFringe+=1;\n",
        "  if(preds[i][0] < .15 or preds[i][0] > .85 ):\n",
        "    countDeterminate+=1;\n",
        "pFringe = round(countFringe/len(preds) * 100,2); pDeter = round(countDeterminate/len(preds) * 100,2); \n",
        "print(\"Number of fringe decisions: \" + str(countFringe))\n",
        "print(\"Number of confidant decisions: \" + str(countDeterminate))\n",
        "des = len(preds) - countFringe - countDeterminate;\n",
        "\n",
        "print(\"Number of desirable decisions: \" + str(des))\n",
        "print(\"Percentage of fringe decisions: \" + str(pFringe) + \"%\")\n",
        "print(\"Percentage of confidant decisions: \" + str(pDeter) + \"%\")\n",
        "pDes = round(des/len(preds) * 100,2); \n",
        "print(\"Percentage of des decisions: \" + str(pDes) + \"%\")"
      ],
      "execution_count": null,
      "outputs": [
        {
          "output_type": "stream",
          "text": [
            "Number of fringe decisions: 6\n",
            "Number of confidant decisions: 0\n",
            "Number of desirable decisions: 3\n",
            "Percentage of fringe decisions: 66.67%\n",
            "Percentage of confidant decisions: 0.0%\n",
            "Percentage of des decisions: 33.33%\n"
          ],
          "name": "stdout"
        }
      ]
    },
    {
      "cell_type": "markdown",
      "metadata": {
        "id": "NBjVzs52rXbj"
      },
      "source": [
        "##**STAGE 2: GOOGLE PAGE RANK ANALYSIS    (95% - Need W/L for Last Case and Jockey Win%)**"
      ]
    },
    {
      "cell_type": "code",
      "metadata": {
        "id": "6Gwh_P9Iz_SP",
        "colab": {
          "base_uri": "https://localhost:8080/",
          "height": 52
        },
        "outputId": "ab36212b-feb5-423b-f49d-e10f28c5e27f"
      },
      "source": [
        "value = 0; numOfHorses = 0; length = len(labels)\n",
        "while(value < length):\n",
        "  value = value + numOfHorses\n",
        "  numOfHorses = numOfHorses + 1\n",
        "\n",
        "#2D Array Fill\n",
        "df = pd.read_csv(path/strTest)\n",
        "testdata = df.copy();\n",
        "\n",
        "jockey1 = ''; jockey2 ='';\n",
        "jockey1 = testdata.jName1[0]\n",
        "jockey2 = testdata.jName1[1]\n",
        "raceJockeys = [];   raceHorses = [];\n",
        "flipped = False;\n",
        "#First Check which Horse is the winner\n",
        "if(jockey1 == jockey2): #Same horse therfore is winner\n",
        "  raceHorses.append(testdata.hName1[0]);\n",
        "  raceJockeys.append(jockey1);\n",
        "  flipped = True;\n",
        "else:                   #Diff horses therefore column of losers\n",
        "  raceHorses.append(testdata.hName2[0])\n",
        "  raceJockeys.append(testdata.jName2[0])\n",
        "  flipped = False;\n",
        "\n",
        "#List of Jockeys & Horese\n",
        "for i in range (numOfHorses-1):\n",
        "  if(flipped == True):\n",
        "    raceHorses.append(testdata.hName2[i]);\n",
        "    raceJockeys.append(testdata.jName2[i]);\n",
        "  else:\n",
        "    raceHorses.append(testdata.hName1[i]);\n",
        "    raceJockeys.append(testdata.jName1[i]);\n",
        "\n",
        "print(raceHorses);\n",
        "print(raceJockeys);"
      ],
      "execution_count": null,
      "outputs": [
        {
          "output_type": "stream",
          "text": [
            "['Wicked Kheisha', 'Tokyo Bay', 'My Sweet Kat', 'Wicked Kheisha', 'Bird Flying', 'My Sweet Kat']\n",
            "['Maragh/Romero', 'Davis/Dylan', 'Lezcano/Jose', 'Maragh/Romero', 'Fukumoto/Daisuke', 'Lezcano/Jose']\n"
          ],
          "name": "stdout"
        }
      ]
    },
    {
      "cell_type": "code",
      "metadata": {
        "id": "uzC1K5ZKwkbM",
        "colab": {
          "base_uri": "https://localhost:8080/",
          "height": 105
        },
        "outputId": "c3e66728-96f6-4d5e-e98f-c1a66f19983a"
      },
      "source": [
        "# READING JOCKEY STATISTICS DATA\n",
        "path = Path('data')\n",
        "df = pd.read_csv(path/'Jockey Statistics.csv')\n",
        "jockeyData = df.copy();\n",
        "\n",
        "# All Data From Jockey Statistics.csv\n",
        "jockeyNames = jockeyData.JockeyName; numberOfRaces = jockeyData.NumOfRaces;\n",
        "wins = jockeyData.Win; place = jockeyData.Place; show = jockeyData.Show\n",
        "winPercentage = jockeyData.WinPercent; top3Percent = jockeyData.Top3Percent                     #x10000\n",
        "QP = jockeyData.QP; AQP = jockeyData.AQP; NNQP = jockeyData.NNQP; ANNQP = jockeyData.ANNQP      \n",
        "last3 = jockeyData.Last3; last5 = jockeyData.Last5; last10 = jockeyData.Last10                  # x1000\n",
        "\n",
        "# Find Indeces of Current Horses\n",
        "indeces = [];\n",
        "for i in range(len(raceJockeys)):\n",
        "  for j in range(len(jockeyNames)):\n",
        "    if(raceJockeys[i] == jockeyNames[j]):\n",
        "      indeces.append(j)\n",
        "print(indeces)\n",
        "\n",
        "BETAQP = []; BETAAQP = []; BETANNQP = []; BETAANNQP = []\n",
        "for i in range(len(indeces)):\n",
        "  BETAQP.append( round(QP[indeces[i]]/1000, 4))\n",
        "  BETAAQP.append( round(AQP[indeces[i]]/1000 , 4))\n",
        "  BETANNQP.append( (round((NNQP[indeces[i]]/1000), 4) ) )\n",
        "  BETAANNQP.append((round((ANNQP[indeces[i]]/1000), 4) ) )\n",
        "\n",
        "minNNQP = 100;\n",
        "minANNQP = 100;\n",
        "for i in range(len(BETANNQP)):\n",
        "  if(minNNQP > BETANNQP[i]):\n",
        "    minNNQP = BETANNQP[i];\n",
        "  if(minANNQP > BETAANNQP[i]):\n",
        "    minANNQP = BETAANNQP[i];\n",
        "# print(minNNQP)\n",
        "# print(minANNQP)\n",
        "\n",
        "# print(BETANNQP)\n",
        "# print(BETAANNQP)\n",
        "\n",
        "for i in range(len(BETANNQP)):\n",
        "  BETANNQP[i] = round(BETANNQP[i] + abs(minNNQP) + 0.01, 3);\n",
        "  BETAANNQP[i] = round(BETAANNQP[i] + abs(minANNQP) + 0.01, 3);\n",
        "\n",
        "print(BETAQP)\n",
        "print(BETAAQP)\n",
        "print(BETANNQP)\n",
        "print(BETAANNQP)\n",
        "\n",
        "if(len(BETAQP) != numOfHorses or len(BETAAQP) != numOfHorses or len(BETANNQP) != numOfHorses or len(BETAANNQP) != numOfHorses):\n",
        "  print('CRITICAL ERROR: HORSE NOT RECOGNIZED')"
      ],
      "execution_count": null,
      "outputs": [
        {
          "output_type": "stream",
          "text": [
            "[115, 1, 3, 115, 106, 3]\n",
            "[8.9247, 401.5932, 375.3023, 8.9247, 12.6367, 375.3023]\n",
            "[0.4958, 0.6003, 0.6516, 0.4958, 0.5055, 0.6516]\n",
            "[0.01, 25.44, 57.75, 0.01, 0.2, 57.75]\n",
            "[0.01, 0.144, 0.206, 0.01, 0.045, 0.206]\n"
          ],
          "name": "stdout"
        }
      ]
    },
    {
      "cell_type": "code",
      "metadata": {
        "id": "NHHRmEbJ4moC",
        "colab": {
          "base_uri": "https://localhost:8080/",
          "height": 404
        },
        "outputId": "5be92af6-bef2-494f-a69e-61bb0f6df326"
      },
      "source": [
        "#2D Array Init\n",
        "print('Initialized Array')\n",
        "rows, cols = (numOfHorses, numOfHorses) \n",
        "arr = [[0] * numOfHorses for i in range(numOfHorses)]\n",
        "for x in range(numOfHorses):\n",
        "  print(arr[x])\n",
        "\n",
        "\n",
        "horsesProcessed = 0;\n",
        "numberOfMatchups = (numOfHorses-1) - horsesProcessed;\n",
        "currentHorse = raceHorses[horsesProcessed]\n",
        "diagonalOffset = 1;\n",
        "print('')\n",
        "labelsIndex = 0;\n",
        "jockey1 = ''; jockey2 = '';\n",
        "jIterator = 0;\n",
        "repeatedHorseColumn1 = False;\n",
        "for horseNum in range(numOfHorses-1): #i represents which horse we are on\n",
        "  if((jIterator) < len(labels)-1):\n",
        "    jockey1 = testdata.jName1[jIterator];\n",
        "    jockey2 = testdata.jName1[jIterator+1];\n",
        "    if(jockey1 == jockey2):\n",
        "      repeatedHorseColumn1 = True;\n",
        "    else:\n",
        "      repeatedHorseColumn1 = False;\n",
        "\n",
        "    while(horsesProcessed != numberOfMatchups):\n",
        "      #Needs conditionals\n",
        "      if(repeatedHorseColumn1 == True):\n",
        "        if(labels[labelsIndex] == 0): # Horse in column 1 wins\n",
        "          arr[horsesProcessed + diagonalOffset][horseNum] = 1;\n",
        "          arr[horseNum][horsesProcessed + diagonalOffset] = 0;\n",
        "        else: # The horse being matched loses to the horse in the second column\n",
        "          arr[horsesProcessed + diagonalOffset][horseNum] = 0\n",
        "          arr[horseNum][horsesProcessed + diagonalOffset] = 1;\n",
        "      else:\n",
        "        if(labels[labelsIndex] == 0): # Horse in column 1 wins\n",
        "          arr[horsesProcessed + diagonalOffset][horseNum] = 0;\n",
        "          arr[horseNum][horsesProcessed + diagonalOffset] = 1;\n",
        "        else: # The horse being matched loses to the horse in the second column\n",
        "          arr[horsesProcessed + diagonalOffset][horseNum] = 1;\n",
        "          arr[horseNum][horsesProcessed + diagonalOffset] = 0;\n",
        "\n",
        "        #print('Not eval')\n",
        "          \n",
        "      #arr[horsesProcessed + diagonalOffset][horseNum] = labels[labelsIndex];\n",
        "      labelsIndex += 1;\n",
        "      horsesProcessed += 1;\n",
        "      jIterator += 1;\n",
        "\n",
        "    numberOfMatchups = numberOfMatchups - 1;\n",
        "    horsesProcessed = 0;\n",
        "    diagonalOffset += 1\n",
        "  else:\n",
        "    #Find Which Two jockeys are pitted against each other\n",
        "    lastDataPoint = labels[len(labels)-1]\n",
        "    jockeyJ11 = testdata.jName1[(len(labels)-1) - 2]\n",
        "    jockeyJ12 = testdata.jName1[(len(labels)-1) - 1]\n",
        "    jockeyJ21 = testdata.jName2[(len(labels)-1) - 2]\n",
        "    jockeyJ22 = testdata.jName2[(len(labels)-1) - 1]\n",
        "    if(jockeyJ11 == jockeyJ12 and (jockeyJ21 != jockeyJ22)):\n",
        "      jSecondToLast = jockeyJ21;\n",
        "      jLast = jockeyJ22;\n",
        "    else:\n",
        "      jSecondToLast = jockeyJ11;\n",
        "      jLast = jockeyJ12;\n",
        "\n",
        "    # Find which column the Second-To-Last (to be evaluated) jockey\n",
        "    if(jSecondToLast == testdata.jName1[(len(labels)-1)]): # Second to last is in first column\n",
        "      if(labels[len(labels)-1] == 0):\n",
        "        arr[numOfHorses-1][numOfHorses-2] = 1;\n",
        "      else:\n",
        "        arr[numOfHorses-2][numOfHorses-1] = 1;\n",
        "    else:                                                  # Second to last is in second column\n",
        "      if(labels[len(labels)-1] == 0):\n",
        "        arr[numOfHorses-2][numOfHorses-1] = 1;\n",
        "      else:\n",
        "        arr[numOfHorses-1][numOfHorses-2] = 1;                                                  # Second to last is in second column\n",
        "      \n",
        "    # print('Second to Last Jockey', jW)\n",
        "    # print(lastDataPoint)\n",
        "    # print('Caught')\n",
        "  \n",
        "for x in range(numOfHorses):\n",
        "  print(arr[x])\n",
        "\n",
        "print('')\n",
        "print('Sum Array')\n",
        "sumArr = []\n",
        "SUM = 0\n",
        "for x in range(numOfHorses):\n",
        "  for y in range(numOfHorses):\n",
        "    SUM = SUM + int(arr[x][y])\n",
        "  sumArr.append(SUM)\n",
        "  SUM = 0\n",
        "print(sumArr)\n",
        "\n",
        "# BETA Evaluation \n",
        "# vT = 1/numOfHorses;   e = 1;      # vT could be jockey win %, room for flexibility\n",
        "# BETA = e*vT*(1-ALPHA)\n",
        "\n",
        "\n",
        "#Special Beta Evaluation\n",
        "sum0 = 0; sum1 = 0; sum2 = 0; sum3 = 0;\n",
        "for i in range(len(BETAQP)):\n",
        "  sum0 = sum0 + BETAQP[i];\n",
        "  sum1 = sum1 + BETAAQP[i];\n",
        "  sum2 = sum2 + BETANNQP[i];\n",
        "  sum3 = sum3 + BETAANNQP[i];\n",
        "for i in range(len(BETAQP)): #Normalizes with respect to 1 \n",
        "  BETAQP[i] = BETAQP[i]/sum0;\n",
        "  BETAAQP[i] = BETAAQP[i]/sum1;\n",
        "  BETANNQP[i] = BETANNQP[i]/sum2;\n",
        "  BETAANNQP[i] = BETAANNQP[i]/sum3;\n",
        "print(BETAQP)\n",
        "print(BETAAQP)\n",
        "print(BETANNQP)\n",
        "print(BETAANNQP)\n",
        "print('')\n",
        "# Normal vT\n",
        "# for x in range(numOfHorses):\n",
        "#   for y in range(numOfHorses):\n",
        "#     if(sumArr[x] != 0):\n",
        "#       arr[x][y] = (((int(arr[x][y])/sumArr[x])*ALPHA) + BETA)\n",
        "    \n",
        "#     if(sumArr[x] == 0):\n",
        "#       arr[x][y] = (((1/numOfHorses)*BETA))"
      ],
      "execution_count": null,
      "outputs": [
        {
          "output_type": "stream",
          "text": [
            "Initialized Array\n",
            "[0, 0, 0, 0, 0, 0]\n",
            "[0, 0, 0, 0, 0, 0]\n",
            "[0, 0, 0, 0, 0, 0]\n",
            "[0, 0, 0, 0, 0, 0]\n",
            "[0, 0, 0, 0, 0, 0]\n",
            "[0, 0, 0, 0, 0, 0]\n",
            "\n",
            "[0, 1, 1, 0, 0, 1]\n",
            "[0, 0, 1, 0, 0, 0]\n",
            "[0, 0, 0, 1, 1, 1]\n",
            "[1, 1, 0, 0, 0, 1]\n",
            "[1, 1, 0, 1, 0, 0]\n",
            "[0, 1, 0, 0, 1, 0]\n",
            "\n",
            "Sum Array\n",
            "[3, 1, 3, 3, 3, 2]\n",
            "[0.007546141449968161, 0.3395608919678369, 0.3173310298719717, 0.007546141449968161, 0.010684765388283378, 0.3173310298719717]\n",
            "[0.1457978003881668, 0.17652767158736693, 0.19161324472151972, 0.1457978003881668, 0.14865023819326, 0.19161324472151972]\n",
            "[7.084159818645508e-05, 0.18022102578634172, 0.40911022952677806, 7.084159818645508e-05, 0.0014168319637291016, 0.40911022952677806]\n",
            "[0.016103059581320453, 0.23188405797101447, 0.33172302737520126, 0.016103059581320453, 0.07246376811594203, 0.33172302737520126]\n",
            "\n"
          ],
          "name": "stdout"
        }
      ]
    },
    {
      "cell_type": "code",
      "metadata": {
        "id": "d1ORbHUpq4iZ",
        "colab": {
          "base_uri": "https://localhost:8080/",
          "height": 281
        },
        "outputId": "93038cbc-9a64-4c9b-d3c9-7867754fc153"
      },
      "source": [
        "theALPHA = 0.95\n",
        "# BASIC 'S' MATRIX\n",
        "for x in range(numOfHorses):\n",
        "  for y in range(numOfHorses):\n",
        "    if(sumArr[x] != 0):\n",
        "      arr[x][y] = ((arr[x][y]/sumArr[x]))\n",
        "\n",
        "print('S MATRIX')\n",
        "for x in range(numOfHorses):\n",
        "  print(arr[x])\n",
        "print('')\n",
        "\n",
        "print('G MATRIX')\n",
        "#ALPHA & BETA ADDITION\n",
        "for x in range(numOfHorses):\n",
        "  for y in range(numOfHorses):\n",
        "    if(sumArr[x] != 0):\n",
        "      arr[x][y] = (theALPHA * (arr[x][y])) + ((1-theALPHA) * BETAQP[y])\n",
        "    \n",
        "    if(sumArr[x] == 0):\n",
        "      arr[x][y] = (theALPHA * (arr[x][y])) + ((1-theALPHA) * BETAQP[y])\n",
        "\n",
        "for i in range(len(arr)):\n",
        "  print(arr[i])"
      ],
      "execution_count": null,
      "outputs": [
        {
          "output_type": "stream",
          "text": [
            "S MATRIX\n",
            "[0.0, 0.3333333333333333, 0.3333333333333333, 0.0, 0.0, 0.3333333333333333]\n",
            "[0.0, 0.0, 1.0, 0.0, 0.0, 0.0]\n",
            "[0.0, 0.0, 0.0, 0.3333333333333333, 0.3333333333333333, 0.3333333333333333]\n",
            "[0.3333333333333333, 0.3333333333333333, 0.0, 0.0, 0.0, 0.3333333333333333]\n",
            "[0.3333333333333333, 0.3333333333333333, 0.0, 0.3333333333333333, 0.0, 0.0]\n",
            "[0.0, 0.5, 0.0, 0.0, 0.5, 0.0]\n",
            "\n",
            "G MATRIX\n",
            "[0.0003773070724984084, 0.3336447112650585, 0.33253321816026526, 0.0003773070724984084, 0.0005342382694141694, 0.33253321816026526]\n",
            "[0.0003773070724984084, 0.01697804459839186, 0.9658665514935986, 0.0003773070724984084, 0.0005342382694141694, 0.0158665514935986]\n",
            "[0.0003773070724984084, 0.01697804459839186, 0.0158665514935986, 0.31704397373916504, 0.31720090493608083, 0.33253321816026526]\n",
            "[0.31704397373916504, 0.3336447112650585, 0.0158665514935986, 0.0003773070724984084, 0.0005342382694141694, 0.33253321816026526]\n",
            "[0.31704397373916504, 0.3336447112650585, 0.0158665514935986, 0.31704397373916504, 0.0005342382694141694, 0.0158665514935986]\n",
            "[0.0003773070724984084, 0.49197804459839184, 0.0158665514935986, 0.0003773070724984084, 0.47553423826941416, 0.0158665514935986]\n"
          ],
          "name": "stdout"
        }
      ]
    },
    {
      "cell_type": "code",
      "metadata": {
        "id": "I4UMcojTJO-q",
        "colab": {
          "base_uri": "https://localhost:8080/",
          "height": 281
        },
        "outputId": "813ff4fb-47bc-425c-8591-5a6bb54b6d9e"
      },
      "source": [
        "# WHERE ALL THE DATA WOULD BE GENERATED\n",
        "ALPHAS = [0.85]\n",
        "# for i in range(2,19):\n",
        "#   ALPHAS.append((0.05) * i);\n",
        "# print(ALPHAS)\n",
        "# \n",
        "\n",
        "percentages5 = []\n",
        "percentages3 = []\n",
        "\n",
        "# Eigen Processes\n",
        "np.set_printoptions(threshold=600)\n",
        "#Step 1: Load Values\n",
        "A = np.zeros((numOfHorses,numOfHorses))\n",
        "for x in range(numOfHorses):\n",
        "  for y in range(numOfHorses):\n",
        "    A[x][y] = arr[x][y]\n",
        "\n",
        "  # print(A)\n",
        "\n",
        "  # print('')\n",
        "\n",
        "# Step 2: Matrix Power Method\n",
        "B = np.linalg.matrix_power(A, 20);\n",
        "# print(B)\n",
        "del A;\n",
        "\n",
        "# Step 3: Eigen Vectoring\n",
        "C = scipy.linalg.eig(B,left=True,right=False)[1][:,0]\n",
        "del B;\n",
        "# print(C)\n",
        "\n",
        "# Step 4: ABS of Eigen Values\n",
        "D = []\n",
        "SUM2 = 0\n",
        "for x in range(len(C)):\n",
        "  D.append(abs(C[x]))\n",
        "  SUM2 = abs(C[x]) + SUM2\n",
        "del C;\n",
        "\n",
        "# print(D)\n",
        "# print(SUM2)\n",
        "\n",
        "# Step 5: Normalizing\n",
        "E = []\n",
        "for x in range(len(D)): \n",
        "  E.append(D[x]/SUM2)\n",
        "# print('Right Here')\n",
        "# print(E)\n",
        "del D;\n",
        "\n",
        "sumss= 0;\n",
        "for i in range(len(E)):\n",
        "  sumss = sumss + E[i]\n",
        "# print(sumss)\n",
        "\n",
        "\n",
        "# print(E)\n",
        "\n",
        "# Step 6: Ordering\n",
        "multArr = []\n",
        "print('ALPHA: ' + str(round(theALPHA, 2)))\n",
        "for N in range(len(E)):\n",
        "  multArr.append([(N+1),(E[N])])\n",
        "for N in range(len(multArr)):\n",
        "  print(multArr[N])\n",
        "  # print('HERE')\n",
        "maxVal = 0;\n",
        "\n",
        "\n",
        "maxVal = 0;\n",
        "index = -1\n",
        "END = False\n",
        "SUM3 = 0\n",
        "\n",
        "\n",
        "\n",
        "#percentages3 = []; percentages5 = [];\n",
        "totalError = 0;   count = 1; top5Error = 0; top3Error = 0;\n",
        "i = numOfHorses\n",
        "while (i != 0):\n",
        "  for x in range(len(E)):\n",
        "    SUM3 = SUM3 + E[x]\n",
        "    if(E[x] < maxVal):\n",
        "      maxVal = maxVal\n",
        "    else:\n",
        "      #print('Max Val', E[x])\n",
        "      maxVal = E[x]\n",
        "      index = x\n",
        "  \n",
        "  z = index +1;\n",
        "  print('Horse ' + str(index+1) + \": \" + raceHorses[index]); \n",
        "  totalError = totalError + abs(z - count)\n",
        "  if((index+1) < 6):\n",
        "    top5Error = top5Error + (abs((index+1) - count))\n",
        "  if((index+1) < 4):\n",
        "    top3Error = top3Error + (abs((index+1) - count))\n",
        "  top5Error = abs(top5Error)\n",
        "\n",
        "\n",
        "  count += 1\n",
        "  E[index] = 0\n",
        "  index = 0\n",
        "  maxVal = 0\n",
        "  if SUM3 == 0:\n",
        "    END = True\n",
        "  SUM3 = 0\n",
        "  i = i -1\n",
        "\n",
        "# print(totalError)\n",
        "maxError = 0;\n",
        "# print(numOfHorses)\n",
        "for i in range(1,numOfHorses):\n",
        "  maxError = maxError + i;\n",
        "\n",
        "counter = 0;\n",
        "top5Eval = False; top3Eval = True\n",
        "if (numOfHorses >= 10):\n",
        "  top5Eval = True\n",
        "  top5maxError = 0\n",
        "  for i in range(1,6):\n",
        "    top5maxError = top5maxError + (numOfHorses - i - counter)\n",
        "    counter = counter + 1;\n",
        "\n",
        "# elif (numOfHorses > 5 and numOfHorses < 10):\n",
        "#   for i in range(1,5):\n",
        "#     top5maxError = top5maxError + (numOfHorses - i - counter)\n",
        "#     counter = counter + 1;\n",
        "# print(top5maxError)\n",
        "\n",
        "# Top 3 Horses\n",
        "counter = 0;\n",
        "top3maxError = 0;\n",
        "if (numOfHorses >= 6):\n",
        "  top3Eval = True\n",
        "  for i in range(1,4):\n",
        "    top3maxError = top3maxError + (numOfHorses - i - counter)\n",
        "    counter = counter + 1;\n",
        "# print(top3maxError)\n",
        "\n",
        "# print('Top 5 Error' + str(top5Error))\n",
        "AccuracyMetric = ((maxError - totalError)/maxError) * 100;\n",
        "\n",
        "if(top5Eval == True):\n",
        "  AccuracyMetricTop5 = ((top5maxError - top5Error)/top5maxError) * 100;\n",
        "  percentages5.append(AccuracyMetricTop5)\n",
        "  print(str(round(AccuracyMetricTop5, 2)) + '%')\n",
        "\n",
        "if(top3Eval == True):\n",
        "  AccuracyMetricTop3 = ((top3maxError - top3Error)/top3maxError) * 100;\n",
        "  percentages3.append(AccuracyMetricTop3)\n",
        "  print(str(round(AccuracyMetricTop3,2)) + '%')\n",
        "print(\"\")\n",
        "\n",
        "del E;\n",
        "\n",
        "trifectaOne = False\n",
        "trifectaTwo = False\n",
        "trifectaThree = False\n",
        "\n",
        "# if()\n",
        "\n",
        "# if()"
      ],
      "execution_count": null,
      "outputs": [
        {
          "output_type": "stream",
          "text": [
            "ALPHA: 0.95\n",
            "[1, 0.09058945748359608]\n",
            "[2, 0.21355787796772152]\n",
            "[3, 0.247433197099406]\n",
            "[4, 0.1283113695430947]\n",
            "[5, 0.1565691054393192]\n",
            "[6, 0.16353899246686254]\n",
            "Horse 3: My Sweet Kat\n",
            "Horse 2: Tokyo Bay\n",
            "Horse 6: My Sweet Kat\n",
            "Horse 5: Bird Flying\n",
            "Horse 4: Wicked Kheisha\n",
            "Horse 1: Wicked Kheisha\n",
            "22.22%\n",
            "\n"
          ],
          "name": "stdout"
        }
      ]
    },
    {
      "cell_type": "code",
      "metadata": {
        "id": "nszqpuOPbfe3"
      },
      "source": [
        "#\n",
        "if(numOfHorses >= 10):\n",
        "  if len(ALPHAS[i].split(\"\")) == 3:\n",
        "    print(\"ddd\")\n",
        "  print(\"ALPHAS    Top 5       Top 3\")\n",
        "  for i in range(len(percentages5)):\n",
        "    print(str(round(ALPHAS[i],2)) + \"      \" + str(round(percentages5[i],2)) + \"%       \" + str(round(percentages3[i],2)) + \"%\")\n",
        "else:\n",
        "  if (numOfHorses >= 6):\n",
        "    print(\"ALPHAS    Top 3\")\n",
        "    for i in range(len(percentages3)):\n",
        "      if len(str(ALPHAS[i]).split(\".\")[1]) < 2:\n",
        "        aStr = str(ALPHAS[i]) + \"0\";\n",
        "        print(aStr + \"      \" + str(round(percentages3[i],2)) + \"%\")\n",
        "      else:\n",
        "        print(str(round(ALPHAS[i],2)) + \"      \" + str(round(percentages3[i],2)) + \"%\")"
      ],
      "execution_count": null,
      "outputs": []
    },
    {
      "cell_type": "markdown",
      "metadata": {
        "id": "VrPu4QNYrj6I"
      },
      "source": [
        "##**STAGE 3: BETTING APPLICATIONS**"
      ]
    },
    {
      "cell_type": "code",
      "metadata": {
        "id": "UoKeaB_JvN43"
      },
      "source": [
        "sizeOfBet = 2\n",
        "horse1Odds = 5\n",
        "horse2Odds = 5\n",
        "horse3Odds = 10\n",
        "\n",
        "#Win\n",
        "returns = \n",
        "\n",
        "#Place\n",
        "\n",
        "#Show\n",
        "\n",
        "\n",
        "\n",
        "#Exacta\n",
        "returnWin = 2*(horse1Odds)*(horse2Odds+1)\n",
        "print(returnWin)"
      ],
      "execution_count": null,
      "outputs": []
    },
    {
      "cell_type": "code",
      "metadata": {
        "id": "X7uy9euMBVt0"
      },
      "source": [
        ""
      ],
      "execution_count": null,
      "outputs": []
    }
  ]
}